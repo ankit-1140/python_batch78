{
 "cells": [
  {
   "cell_type": "code",
   "execution_count": 1,
   "id": "7a4c039c-703f-4788-a96c-747d79c98a4f",
   "metadata": {},
   "outputs": [
    {
     "name": "stdout",
     "output_type": "stream",
     "text": [
      "8\n"
     ]
    }
   ],
   "source": [
    "x = 3\n",
    "y= 5\n",
    "z= x+y\n",
    "print(z)\n"
   ]
  },
  {
   "cell_type": "code",
   "execution_count": 5,
   "id": "b8de6eee-553c-4732-9886-6cfd45b0932a",
   "metadata": {},
   "outputs": [
    {
     "name": "stdout",
     "output_type": "stream",
     "text": [
      "My name isAnkit Sharma and I am 30 years old.\n"
     ]
    }
   ],
   "source": [
    "firstname= \"Ankit\"\n",
    "lastname = \"Sharma\"\n",
    "age= 30 \n",
    "print(f'My name is {firstname} {lastname} and I am {age} years old.')\n",
    "\n"
   ]
  },
  {
   "cell_type": "code",
   "execution_count": 6,
   "id": "53dc1c49-872d-457a-9e68-661417e25dd3",
   "metadata": {},
   "outputs": [
    {
     "name": "stdout",
     "output_type": "stream",
     "text": [
      "ankit sharma\n"
     ]
    }
   ],
   "source": [
    "fullname=\"Ankit Sharma\"\n",
    "print(fullname.lower())\n"
   ]
  },
  {
   "cell_type": "code",
   "execution_count": 7,
   "id": "a6e8ccc2-dd3a-436e-812a-6fb15bda0f85",
   "metadata": {},
   "outputs": [
    {
     "name": "stdout",
     "output_type": "stream",
     "text": [
      "ANKIT SHARMA\n"
     ]
    }
   ],
   "source": [
    "fullname=\"Ankit Sharma\"\n",
    "print(fullname.upper())"
   ]
  },
  {
   "cell_type": "code",
   "execution_count": 8,
   "id": "0ee9d08e-cf96-4f5b-8510-fa5621be4442",
   "metadata": {},
   "outputs": [
    {
     "name": "stdout",
     "output_type": "stream",
     "text": [
      "Ankit Sharma\n"
     ]
    }
   ],
   "source": [
    "fullname=\"Ankit Sharma\"\n",
    "print(fullname.title())"
   ]
  },
  {
   "cell_type": "code",
   "execution_count": 9,
   "id": "756b881f-8c70-499a-8315-714af6c53417",
   "metadata": {},
   "outputs": [
    {
     "name": "stdout",
     "output_type": "stream",
     "text": [
      "Ankit\n",
      "Arjun\n",
      "Ashok\n",
      "Anuj\n"
     ]
    }
   ],
   "source": [
    "name = \"Ankit\\nArjun\\nAshok\\nAnuj\"\n",
    "print(name)\n"
   ]
  },
  {
   "cell_type": "code",
   "execution_count": null,
   "id": "4e464c93-c033-4006-8ccb-11181173c37b",
   "metadata": {},
   "outputs": [],
   "source": [
    "name = \"Ankit\\nArjun\\nAshok\\nAnuj\"\n",
    "print(name.title())"
   ]
  }
 ],
 "metadata": {
  "kernelspec": {
   "display_name": "Python 3 (ipykernel)",
   "language": "python",
   "name": "python3"
  },
  "language_info": {
   "codemirror_mode": {
    "name": "ipython",
    "version": 3
   },
   "file_extension": ".py",
   "mimetype": "text/x-python",
   "name": "python",
   "nbconvert_exporter": "python",
   "pygments_lexer": "ipython3",
   "version": "3.10.9"
  }
 },
 "nbformat": 4,
 "nbformat_minor": 5
}
