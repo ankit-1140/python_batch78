{
 "cells": [
  {
   "cell_type": "code",
   "execution_count": 1,
   "id": "2bb710f3-cf38-438a-882e-266a5b902601",
   "metadata": {},
   "outputs": [
    {
     "name": "stdout",
     "output_type": "stream",
     "text": [
      "hello world\n"
     ]
    }
   ],
   "source": [
    "print(\"hello world\")\n"
   ]
  },
  {
   "cell_type": "code",
   "execution_count": 2,
   "id": "8f48b15f-1f0f-415c-a746-bea2233d36a8",
   "metadata": {},
   "outputs": [
    {
     "name": "stdout",
     "output_type": "stream",
     "text": [
      "This is my first class of python\n"
     ]
    }
   ],
   "source": [
    "print('This is my first class of python')"
   ]
  },
  {
   "cell_type": "code",
   "execution_count": null,
   "id": "5be56d96-ad6f-47cc-9601-0c232a431211",
   "metadata": {},
   "outputs": [],
   "source": []
  }
 ],
 "metadata": {
  "kernelspec": {
   "display_name": "Python 3 (ipykernel)",
   "language": "python",
   "name": "python3"
  },
  "language_info": {
   "codemirror_mode": {
    "name": "ipython",
    "version": 3
   },
   "file_extension": ".py",
   "mimetype": "text/x-python",
   "name": "python",
   "nbconvert_exporter": "python",
   "pygments_lexer": "ipython3",
   "version": "3.10.9"
  }
 },
 "nbformat": 4,
 "nbformat_minor": 5
}
